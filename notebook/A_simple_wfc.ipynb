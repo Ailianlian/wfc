{
 "cells": [
  {
   "cell_type": "code",
   "execution_count": 9,
   "metadata": {},
   "outputs": [],
   "source": [
    "from wfc.basic.definitions import Tile\n",
    "from wfc.basic.algorithm import generate_wfc\n",
    "from PIL import Image\n",
    "import io\n",
    "import base64\n",
    "from IPython import display"
   ]
  },
  {
   "cell_type": "code",
   "execution_count": 2,
   "metadata": {},
   "outputs": [],
   "source": [
    "straight_image = Image.open(io.BytesIO(base64.b64decode('iVBORw0KGgoAAAANSUhEUgAAAAoAAAAKCAYAAACNMs+9AAAAMklEQVQYlWNQVrT9r6xo+988UfN/0yqN/4evOP0/fMXpf9Mqjf/miZr/YfIMowrpqxAAjKLGXfWE8ZAAAAAASUVORK5CYII=')))\n",
    "bend_image = Image.open(io.BytesIO(base64.b64decode('iVBORw0KGgoAAAANSUhEUgAAAAoAAAAKCAYAAACNMs+9AAAANklEQVQYlWNQVrT9TwxmIFmheaImXoyisGmVBk6MofDwFSesmHKFRFvdtEoDv2fQFWINHnwKAQHMxl1/fce/AAAAAElFTkSuQmCC')))\n",
    "blank_image = Image.open(io.BytesIO(base64.b64decode('iVBORw0KGgoAAAANSUhEUgAAAAoAAAAKCAYAAACNMs+9AAAAFElEQVQYlWNQVrT9TwxmGFVIX4UAoDOWARI9hF0AAAAASUVORK5CYII=')))\n",
    "cross_image = Image.open(io.BytesIO(base64.b64decode('iVBORw0KGgoAAAANSUhEUgAAAAoAAAAKCAYAAACNMs+9AAAAU0lEQVQYlWNQVrT9r6xo+988UfN/0yqN/4evOP0/fMXpf9Mqjf/miZr/YfIMRCs0T9T8D8PYFMIwQ9Mqjf/IGFkhMmaASRDCxCsk2mqiPUP1cAQAKI/idfPNuccAAAAASUVORK5CYII=')))\n",
    "t_image = Image.open(io.BytesIO(base64.b64decode('iVBORw0KGgoAAAANSUhEUgAAAAoAAAAKCAYAAACNMs+9AAAAWUlEQVQYlWNQVrT9r6xo+988UfN/0yqN/4evOP0/fMXpf9Mqjf/miZr/YfIMRCs0T9T8D8PYFMIwQ9Mqjf/IGFkhMmaASRDCxCtEtwIXRvEMPgwPHkKYaIUAow/UaQFDAc4AAAAASUVORK5CYII=')))\n"
   ]
  },
  {
   "cell_type": "code",
   "execution_count": 3,
   "metadata": {},
   "outputs": [],
   "source": [
    "tiles = [\n",
    "    Tile('straight_ud', straight_image,\n",
    "         [False, True, False, True], 1/2),\n",
    "    Tile('straight_lr', straight_image.transpose(Image.ROTATE_90),\n",
    "         [True, False, True, False], 1/2),\n",
    "    Tile('bend_br', bend_image,\n",
    "         [True, False, False, True], 1/4),\n",
    "    Tile('bend_tr', bend_image.transpose(Image.ROTATE_90),\n",
    "         [True, True, False, False], 1/4),\n",
    "    Tile('bend_tl', bend_image.transpose(Image.ROTATE_180),\n",
    "         [False, True, True, False], 1/4),\n",
    "    Tile('bend_bl', bend_image.transpose(Image.ROTATE_270),\n",
    "         [False, False, True, True], 1/4),\n",
    "    Tile('t_u', t_image,\n",
    "         [True, True, True, False], 1/4),\n",
    "    Tile('t_l', t_image.transpose(Image.ROTATE_90),\n",
    "         [False, True, True, True], 1/4),\n",
    "    Tile('t_d', t_image.transpose(Image.ROTATE_180),\n",
    "         [True, False, True, True], 1/4),\n",
    "    Tile('t_r', t_image.transpose(Image.ROTATE_270),\n",
    "         [True, True, False, True], 1/4),\n",
    "    Tile('blank', blank_image,\n",
    "         [False, False, False, False], 1),\n",
    "    Tile('cross', cross_image,\n",
    "         [True, True, True, True], 1)\n",
    "]\n"
   ]
  },
  {
   "cell_type": "code",
   "execution_count": 5,
   "metadata": {},
   "outputs": [],
   "source": [
    "img = generate_wfc(30,30, tiles, fast_generation=True)"
   ]
  },
  {
   "cell_type": "code",
   "execution_count": 12,
   "metadata": {},
   "outputs": [
    {
     "data": {
      "image/png": "[encoded data removed]",
      "text/plain": [
       "<PIL.Image.Image image mode=RGBA size=300x300>"
      ]
     },
     "metadata": {},
     "output_type": "display_data"
    }
   ],
   "source": [
    "display.display(img[0])"
   ]
  }
 ],
 "metadata": {
  "kernelspec": {
   "display_name": "wfc",
   "language": "python",
   "name": "python3"
  },
  "language_info": {
   "codemirror_mode": {
    "name": "ipython",
    "version": 3
   },
   "file_extension": ".py",
   "mimetype": "text/x-python",
   "name": "python",
   "nbconvert_exporter": "python",
   "pygments_lexer": "ipython3",
   "version": "3.10.8"
  },
  "orig_nbformat": 4
 },
 "nbformat": 4,
 "nbformat_minor": 2
}
